{
 "metadata": {
  "name": ""
 },
 "nbformat": 3,
 "nbformat_minor": 0,
 "worksheets": [
  {
   "cells": [
    {
     "cell_type": "heading",
     "level": 1,
     "metadata": {},
     "source": [
      "Notebook basic"
     ]
    },
    {
     "cell_type": "markdown",
     "metadata": {},
     "source": [
      "Musste erst mal http://stackoverflow.com/questions/15526996/ipython-notebook-locale-error machen."
     ]
    },
    {
     "cell_type": "markdown",
     "metadata": {},
     "source": [
      "Hier kommt der Text hin. $\\int_0^\\infty f(x) \\: dx$"
     ]
    },
    {
     "cell_type": "code",
     "collapsed": false,
     "input": [
      "list=['a','b','c']\n",
      "type(list)"
     ],
     "language": "python",
     "metadata": {},
     "outputs": [
      {
       "metadata": {},
       "output_type": "pyout",
       "prompt_number": 1,
       "text": [
        "list"
       ]
      }
     ],
     "prompt_number": 1
    },
    {
     "cell_type": "code",
     "collapsed": false,
     "input": [],
     "language": "python",
     "metadata": {},
     "outputs": []
    }
   ],
   "metadata": {}
  }
 ]
}