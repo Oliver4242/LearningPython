{
 "metadata": {
  "name": ""
 },
 "nbformat": 3,
 "nbformat_minor": 0,
 "worksheets": [
  {
   "cells": [
    {
     "cell_type": "markdown",
     "metadata": {},
     "source": [
      "## Algemeines\n",
      "* Viele Kurse auf training.nsort.com \n",
      "* Listen mit [1,1.2, 'hello']\n",
      "* Tuple (1,2,3)\n",
      "* Dictionary {'Hallo' : 1, 'Gallo' : 2}\n",
      "* Sets s = {'a',1,1.0}\n",
      "* type gibt Datentyp raus"
     ]
    },
    {
     "cell_type": "code",
     "collapsed": false,
     "input": [
      "s ='Hallo'\n",
      "s[-1]"
     ],
     "language": "python",
     "metadata": {},
     "outputs": [
      {
       "metadata": {},
       "output_type": "pyout",
       "prompt_number": 12,
       "text": [
        "'o'"
       ]
      }
     ],
     "prompt_number": 12
    },
    {
     "cell_type": "code",
     "collapsed": false,
     "input": [
      "s = {'a',1,1.0} #Set\n",
      "print(type(s))\n",
      "s"
     ],
     "language": "python",
     "metadata": {},
     "outputs": [
      {
       "output_type": "stream",
       "stream": "stdout",
       "text": [
        "<type 'set'>\n"
       ]
      },
      {
       "metadata": {},
       "output_type": "pyout",
       "prompt_number": 16,
       "text": [
        "{1.0, 'a'}"
       ]
      }
     ],
     "prompt_number": 16
    },
    {
     "cell_type": "code",
     "collapsed": false,
     "input": [
      "float(1)"
     ],
     "language": "python",
     "metadata": {},
     "outputs": [
      {
       "metadata": {},
       "output_type": "pyout",
       "prompt_number": 15,
       "text": [
        "1.0"
       ]
      }
     ],
     "prompt_number": 15
    },
    {
     "cell_type": "heading",
     "level": 4,
     "metadata": {},
     "source": [
      "Strings"
     ]
    },
    {
     "cell_type": "code",
     "collapsed": false,
     "input": [
      "'echo' * 2\n",
      "'Hallo Gallo'.split()\n",
      "sMitZeile=''' Hallo \n",
      "Neue Zeile'''\n",
      "print(sMitZeile)"
     ],
     "language": "python",
     "metadata": {},
     "outputs": [
      {
       "output_type": "stream",
       "stream": "stdout",
       "text": [
        " Hallo \n",
        "Neue Zeile\n"
       ]
      }
     ],
     "prompt_number": 19
    },
    {
     "cell_type": "heading",
     "level": 2,
     "metadata": {},
     "source": [
      "Lists mit eckigen Klammern"
     ]
    },
    {
     "cell_type": "code",
     "collapsed": false,
     "input": [
      "a = [1,2,3,4]\n",
      "b = ['hallo', 3, 'gallo']\n",
      "print(a + b)\n",
      "print(a * 2)\n",
      "print('hallo' in b)\n",
      "print(b.index('gallo'))"
     ],
     "language": "python",
     "metadata": {},
     "outputs": [
      {
       "output_type": "stream",
       "stream": "stdout",
       "text": [
        "[1, 2, 3, 4, 'hallo', 3, 'gallo']\n",
        "[1, 2, 3, 4, 1, 2, 3, 4]\n",
        "True\n",
        "2\n"
       ]
      }
     ],
     "prompt_number": 31
    },
    {
     "cell_type": "heading",
     "level": 2,
     "metadata": {},
     "source": [
      "Tuple mit runden Klammern"
     ]
    },
    {
     "cell_type": "code",
     "collapsed": false,
     "input": [
      "a = (1,3)\n",
      "a[1]"
     ],
     "language": "python",
     "metadata": {},
     "outputs": [
      {
       "metadata": {},
       "output_type": "pyout",
       "prompt_number": 73,
       "text": [
        "3"
       ]
      }
     ],
     "prompt_number": 73
    },
    {
     "cell_type": "heading",
     "level": 1,
     "metadata": {},
     "source": [
      "Numpy"
     ]
    },
    {
     "cell_type": "code",
     "collapsed": false,
     "input": [
      "import numpy as np"
     ],
     "language": "python",
     "metadata": {},
     "outputs": [],
     "prompt_number": 8
    },
    {
     "cell_type": "markdown",
     "metadata": {},
     "source": [
      "* Initialisierbar durch Listen, generierende Funktionen und aus Files \n",
      "* Nur einen Datentyp pro Zelle"
     ]
    },
    {
     "cell_type": "code",
     "collapsed": false,
     "input": [
      "v = np.array([1,2,3])\n",
      "print(v)"
     ],
     "language": "python",
     "metadata": {},
     "outputs": [
      {
       "output_type": "stream",
       "stream": "stdout",
       "text": [
        "[1 2 3]\n"
       ]
      }
     ],
     "prompt_number": 5
    },
    {
     "cell_type": "code",
     "collapsed": false,
     "input": [],
     "language": "python",
     "metadata": {},
     "outputs": []
    },
    {
     "cell_type": "code",
     "collapsed": false,
     "input": [
      "print(np.shape(v)) #(3,) das Komma ist nur eine komische Schreibweise\n",
      "v.ndim\n",
      "vt = np.transpose(v)\n",
      "print(np.shape(vt))\n",
      "vt.dtype #Element Type"
     ],
     "language": "python",
     "metadata": {},
     "outputs": [
      {
       "output_type": "stream",
       "stream": "stdout",
       "text": [
        "(3,)\n",
        "(3,)\n"
       ]
      },
      {
       "metadata": {},
       "output_type": "pyout",
       "prompt_number": 48,
       "text": [
        "dtype('int64')"
       ]
      }
     ],
     "prompt_number": 48
    },
    {
     "cell_type": "heading",
     "level": 3,
     "metadata": {},
     "source": [
      "Generierende Funktionen"
     ]
    },
    {
     "cell_type": "code",
     "collapsed": false,
     "input": [
      "print(np.arange(0, 10, 2))\n",
      "print(np.arange(0, 10,2))\n",
      "print(np.linspace(0,10,3))\n",
      "print(np.logspace(0,10,3))\n",
      "x, y = np.mgrid[1:4,1:2]\n",
      "print(x, y)\n",
      "print(np.random.rand(3,3)) #Auch randn"
     ],
     "language": "python",
     "metadata": {},
     "outputs": [
      {
       "output_type": "stream",
       "stream": "stdout",
       "text": [
        "[0 2 4 6 8]\n",
        "[0 2 4 6 8]\n",
        "[  0.   5.  10.]\n",
        "[  1.00000000e+00   1.00000000e+05   1.00000000e+10]\n",
        "(array([[1],\n",
        "       [2],\n",
        "       [3]]), array([[1],\n",
        "       [1],\n",
        "       [1]]))\n",
        "[[ 0.19543     0.63613668  0.71173512]\n",
        " [ 0.3423762   0.75687107  0.67467235]\n",
        " [ 0.86405309  0.38351827  0.48611244]]\n"
       ]
      }
     ],
     "prompt_number": 66
    },
    {
     "cell_type": "heading",
     "level": 3,
     "metadata": {},
     "source": [
      "Generierung aus Files"
     ]
    },
    {
     "cell_type": "code",
     "collapsed": false,
     "input": [
      "import os\n",
      "np.genfromtxt() #Liest eine Datei ein\n",
      "# Speicher\n",
      "#np.savetxt()"
     ],
     "language": "python",
     "metadata": {},
     "outputs": []
    },
    {
     "cell_type": "heading",
     "level": 3,
     "metadata": {},
     "source": [
      "Plotting with matlib plot"
     ]
    },
    {
     "cell_type": "code",
     "collapsed": false,
     "input": [
      "import matplotlib.pyplot as plt\n",
      "#Magic Command, so that the plot will be included\n",
      "%matplotlib inline \n",
      "plt.plot([1,2,3,4])\n",
      "plt.ylabel('some numbers')\n",
      "plt.show()"
     ],
     "language": "python",
     "metadata": {},
     "outputs": [
      {
       "metadata": {},
       "output_type": "display_data",
       "png": "[encoded data removed]",
       "text": [
        "<matplotlib.figure.Figure at 0x10a6ec090>"
       ]
      }
     ],
     "prompt_number": 15
    },
    {
     "cell_type": "heading",
     "level": 2,
     "metadata": {},
     "source": [
      "Matrix"
     ]
    },
    {
     "cell_type": "markdown",
     "metadata": {},
     "source": [
      "Es gibt den Datentyp Matrix, der wie in der LA arbeitet"
     ]
    },
    {
     "cell_type": "code",
     "collapsed": false,
     "input": [],
     "language": "python",
     "metadata": {},
     "outputs": []
    }
   ],
   "metadata": {}
  }
 ]
}